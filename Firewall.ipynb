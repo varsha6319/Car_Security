{
 "cells": [
  {
   "cell_type": "code",
   "execution_count": 1,
   "metadata": {},
   "outputs": [
    {
     "name": "stdout",
     "output_type": "stream",
     "text": [
      "<class 'pandas.core.frame.DataFrame'>\n",
      "RangeIndex: 5000000 entries, 0 to 4999999\n",
      "Data columns (total 6 columns):\n",
      "uri             object\n",
      "is_static       bool\n",
      "http_version    object\n",
      "has_referer     bool\n",
      "method          object\n",
      "label           int64\n",
      "dtypes: bool(2), int64(1), object(3)\n",
      "memory usage: 162.1+ MB\n"
     ]
    }
   ],
   "source": [
    "import pandas as pd\n",
    "df = pd.read_csv(\"data/dataset.csv\")\n",
    "df.info()"
   ]
  },
  {
   "cell_type": "code",
   "execution_count": 2,
   "metadata": {},
   "outputs": [
    {
     "data": {
      "text/plain": [
       "0    4994891\n",
       "1       5109\n",
       "Name: label, dtype: int64"
      ]
     },
     "execution_count": 2,
     "metadata": {},
     "output_type": "execute_result"
    }
   ],
   "source": [
    "df['label'].value_counts()"
   ]
  },
  {
   "cell_type": "code",
   "execution_count": 3,
   "metadata": {},
   "outputs": [
    {
     "data": {
      "text/html": [
       "<div>\n",
       "<table border=\"1\" class=\"dataframe\">\n",
       "  <thead>\n",
       "    <tr style=\"text-align: right;\">\n",
       "      <th></th>\n",
       "      <th>uri</th>\n",
       "      <th>is_static</th>\n",
       "      <th>http_version</th>\n",
       "      <th>has_referer</th>\n",
       "      <th>method</th>\n",
       "      <th>label</th>\n",
       "    </tr>\n",
       "  </thead>\n",
       "  <tbody>\n",
       "    <tr>\n",
       "      <th>0</th>\n",
       "      <td>/login</td>\n",
       "      <td>False</td>\n",
       "      <td>v1.1</td>\n",
       "      <td>True</td>\n",
       "      <td>GET</td>\n",
       "      <td>0</td>\n",
       "    </tr>\n",
       "    <tr>\n",
       "      <th>1</th>\n",
       "      <td>/product/72470</td>\n",
       "      <td>False</td>\n",
       "      <td>v1.1</td>\n",
       "      <td>True</td>\n",
       "      <td>GET</td>\n",
       "      <td>0</td>\n",
       "    </tr>\n",
       "    <tr>\n",
       "      <th>2</th>\n",
       "      <td>/media/catalog/small_image/210x210/203561673.jpg</td>\n",
       "      <td>True</td>\n",
       "      <td>v1.1</td>\n",
       "      <td>True</td>\n",
       "      <td>GET</td>\n",
       "      <td>0</td>\n",
       "    </tr>\n",
       "    <tr>\n",
       "      <th>3</th>\n",
       "      <td>/blog/images/logo.png</td>\n",
       "      <td>True</td>\n",
       "      <td>v1.1</td>\n",
       "      <td>False</td>\n",
       "      <td>GET</td>\n",
       "      <td>0</td>\n",
       "    </tr>\n",
       "    <tr>\n",
       "      <th>4</th>\n",
       "      <td>/data/files/images/menu.jpg</td>\n",
       "      <td>True</td>\n",
       "      <td>v2.0</td>\n",
       "      <td>True</td>\n",
       "      <td>GET</td>\n",
       "      <td>0</td>\n",
       "    </tr>\n",
       "  </tbody>\n",
       "</table>\n",
       "</div>"
      ],
      "text/plain": [
       "                                                uri is_static http_version  \\\n",
       "0                                            /login     False         v1.1   \n",
       "1                                    /product/72470     False         v1.1   \n",
       "2  /media/catalog/small_image/210x210/203561673.jpg      True         v1.1   \n",
       "3                             /blog/images/logo.png      True         v1.1   \n",
       "4                       /data/files/images/menu.jpg      True         v2.0   \n",
       "\n",
       "  has_referer method  label  \n",
       "0        True    GET      0  \n",
       "1        True    GET      0  \n",
       "2        True    GET      0  \n",
       "3       False    GET      0  \n",
       "4        True    GET      0  "
      ]
     },
     "execution_count": 3,
     "metadata": {},
     "output_type": "execute_result"
    }
   ],
   "source": [
    "df.head()"
   ]
  },
  {
   "cell_type": "code",
   "execution_count": 4,
   "metadata": {},
   "outputs": [
    {
     "data": {
      "text/html": [
       "<div>\n",
       "<table border=\"1\" class=\"dataframe\">\n",
       "  <thead>\n",
       "    <tr style=\"text-align: right;\">\n",
       "      <th></th>\n",
       "      <th>uri</th>\n",
       "      <th>is_static</th>\n",
       "      <th>http_version</th>\n",
       "      <th>has_referer</th>\n",
       "      <th>method</th>\n",
       "      <th>label</th>\n",
       "    </tr>\n",
       "  </thead>\n",
       "  <tbody>\n",
       "    <tr>\n",
       "      <th>32</th>\n",
       "      <td>/.git/config</td>\n",
       "      <td>False</td>\n",
       "      <td>v1.1</td>\n",
       "      <td>False</td>\n",
       "      <td>GET</td>\n",
       "      <td>1</td>\n",
       "    </tr>\n",
       "    <tr>\n",
       "      <th>768</th>\n",
       "      <td>/?x=%3Cscript%3Ealert%281%29%3C%2Fscript%3E</td>\n",
       "      <td>False</td>\n",
       "      <td>v1.1</td>\n",
       "      <td>False</td>\n",
       "      <td>GET</td>\n",
       "      <td>1</td>\n",
       "    </tr>\n",
       "    <tr>\n",
       "      <th>1056</th>\n",
       "      <td>/?x=INSERT+INTO+users20VALUES%281%2C+%27ddd%27%29</td>\n",
       "      <td>False</td>\n",
       "      <td>v1.1</td>\n",
       "      <td>False</td>\n",
       "      <td>GET</td>\n",
       "      <td>1</td>\n",
       "    </tr>\n",
       "    <tr>\n",
       "      <th>2872</th>\n",
       "      <td>/?x=cmd.exe</td>\n",
       "      <td>True</td>\n",
       "      <td>v1.1</td>\n",
       "      <td>False</td>\n",
       "      <td>GET</td>\n",
       "      <td>1</td>\n",
       "    </tr>\n",
       "    <tr>\n",
       "      <th>3917</th>\n",
       "      <td>/?x=..%2F..%2F..%2F..%2Fetc%2Fpasswd</td>\n",
       "      <td>False</td>\n",
       "      <td>v1.1</td>\n",
       "      <td>False</td>\n",
       "      <td>GET</td>\n",
       "      <td>1</td>\n",
       "    </tr>\n",
       "  </tbody>\n",
       "</table>\n",
       "</div>"
      ],
      "text/plain": [
       "                                                    uri is_static  \\\n",
       "32                                         /.git/config     False   \n",
       "768         /?x=%3Cscript%3Ealert%281%29%3C%2Fscript%3E     False   \n",
       "1056  /?x=INSERT+INTO+users20VALUES%281%2C+%27ddd%27%29     False   \n",
       "2872                                        /?x=cmd.exe      True   \n",
       "3917               /?x=..%2F..%2F..%2F..%2Fetc%2Fpasswd     False   \n",
       "\n",
       "     http_version has_referer method  label  \n",
       "32           v1.1       False    GET      1  \n",
       "768          v1.1       False    GET      1  \n",
       "1056         v1.1       False    GET      1  \n",
       "2872         v1.1       False    GET      1  \n",
       "3917         v1.1       False    GET      1  "
      ]
     },
     "execution_count": 4,
     "metadata": {},
     "output_type": "execute_result"
    }
   ],
   "source": [
    "pd.set_option('display.max_colwidth', 80)\n",
    "df[df['label'] == 1].head()"
   ]
  },
  {
   "cell_type": "code",
   "execution_count": 5,
   "metadata": {},
   "outputs": [
    {
     "data": {
      "image/png": "[encoded data removed]",
      "text/plain": [
       "<matplotlib.figure.Figure at 0x116fa4eb8>"
      ]
     },
     "metadata": {},
     "output_type": "display_data"
    }
   ],
   "source": [
    "import matplotlib.pyplot as plt\n",
    "%matplotlib inline\n",
    "import seaborn as sns\n",
    "sns.set_style('whitegrid')\n",
    "\n",
    "def plot_attribute_countplot_by_label(dataset, attribute_name, value_list=None):\n",
    "    if value_list is None:\n",
    "        value_list = dataset[attribute_name].unique()\n",
    "    fig, (axis1, axis2) = plt.subplots(2, 1, figsize=(14, len(value_list) * 2))\n",
    "    sns.countplot(y='label', hue=attribute_name, hue_order=value_list, \n",
    "                  data=dataset[dataset['label'] == 0], ax=axis1)\n",
    "    sns.countplot(y='label', hue=attribute_name, hue_order=value_list, \n",
    "                  data=dataset[dataset['label'] == 1], ax=axis2)\n",
    "    \n",
    "plot_attribute_countplot_by_label(df, \"http_version\")"
   ]
  },
  {
   "cell_type": "code",
   "execution_count": 6,
   "metadata": {
    "scrolled": true
   },
   "outputs": [
    {
     "data": {
      "image/png": "[encoded data removed]",
      "text/plain": [
       "<matplotlib.figure.Figure at 0x10871b7b8>"
      ]
     },
     "metadata": {},
     "output_type": "display_data"
    }
   ],
   "source": [
    "plot_attribute_countplot_by_label(df, \"is_static\")"
   ]
  },
  {
   "cell_type": "code",
   "execution_count": 7,
   "metadata": {
    "scrolled": true
   },
   "outputs": [
    {
     "data": {
      "image/png": "[encoded data removed]",
      "text/plain": [
       "<matplotlib.figure.Figure at 0x10e9252b0>"
      ]
     },
     "metadata": {},
     "output_type": "display_data"
    }
   ],
   "source": [
    "plot_attribute_countplot_by_label(df, \"has_referer\")"
   ]
  },
  {
   "cell_type": "code",
   "execution_count": 8,
   "metadata": {
    "scrolled": false
   },
   "outputs": [
    {
     "data": {
      "image/png": "[encoded data removed]",
      "text/plain": [
       "<matplotlib.figure.Figure at 0x110f117b8>"
      ]
     },
     "metadata": {},
     "output_type": "display_data"
    }
   ],
   "source": [
    "plot_attribute_countplot_by_label(df, \"method\", [\"GET\", \"POST\", \"HEAD\"])"
   ]
  },
  {
   "cell_type": "code",
   "execution_count": 9,
   "metadata": {
    "collapsed": true
   },
   "outputs": [],
   "source": [
    "from sklearn.model_selection import train_test_split\n",
    "attributes = ['uri', 'is_static', 'http_version', 'has_referer', 'method']\n",
    "x_train, x_test, y_train, y_test = train_test_split(df[attributes], df['label'], test_size=0.2, \n",
    "                                                    stratify=df['label'], random_state=0)"
   ]
  },
  {
   "cell_type": "code",
   "execution_count": 10,
   "metadata": {},
   "outputs": [
    {
     "name": "stdout",
     "output_type": "stream",
     "text": [
      "Train: 3200000 Dev: 800000 Test: 1000000\n"
     ]
    }
   ],
   "source": [
    "x_train, x_dev, y_train, y_dev = train_test_split(x_train, y_train, test_size=0.2, \n",
    "                                                  stratify=y_train, random_state=0)\n",
    "print('Train:', len(y_train), 'Dev:', len(y_dev), 'Test:', len(y_test))"
   ]
  },
  {
   "cell_type": "code",
   "execution_count": 11,
   "metadata": {},
   "outputs": [
    {
     "name": "stdout",
     "output_type": "stream",
     "text": [
      "Number of features: 74\n"
     ]
    }
   ],
   "source": [
    "from sklearn.feature_extraction.text import CountVectorizer\n",
    "\n",
    "count_vectorizer = CountVectorizer(analyzer='char', min_df=10)\n",
    "n_grams_train = count_vectorizer.fit_transform(x_train['uri'])\n",
    "n_grams_dev = count_vectorizer.transform(x_dev['uri'])\n",
    "\n",
    "print('Number of features:', len(count_vectorizer.vocabulary_))"
   ]
  },
  {
   "cell_type": "code",
   "execution_count": 12,
   "metadata": {
    "scrolled": true
   },
   "outputs": [
    {
     "name": "stdout",
     "output_type": "stream",
     "text": [
      "SGDClassifier accuracy: 0.99882\n"
     ]
    }
   ],
   "source": [
    "from sklearn.linear_model import SGDClassifier\n",
    "from sklearn.metrics import accuracy_score\n",
    "\n",
    "sgd = SGDClassifier(random_state=0)\n",
    "sgd.fit(n_grams_train, y_train)\n",
    "y_pred_sgd = sgd.predict(n_grams_dev)\n",
    "print(\"SGDClassifier accuracy:\", accuracy_score(y_dev, y_pred_sgd))"
   ]
  },
  {
   "cell_type": "code",
   "execution_count": 13,
   "metadata": {},
   "outputs": [
    {
     "name": "stdout",
     "output_type": "stream",
     "text": [
      "DummyClassifier accuracy: 0.99897875\n"
     ]
    }
   ],
   "source": [
    "from sklearn.dummy import DummyClassifier\n",
    "dummy_clf = DummyClassifier(strategy='most_frequent')\n",
    "dummy_clf.fit(n_grams_train, y_train)\n",
    "print(\"DummyClassifier accuracy:\", dummy_clf.score(n_grams_dev, y_dev))"
   ]
  },
  {
   "cell_type": "code",
   "execution_count": 14,
   "metadata": {},
   "outputs": [
    {
     "name": "stdout",
     "output_type": "stream",
     "text": [
      "Precision: 0.414535666218\n",
      "Recall: 0.376988984088\n"
     ]
    }
   ],
   "source": [
    "from sklearn.metrics import precision_score, recall_score\n",
    "print('Precision:', precision_score(y_dev, y_pred_sgd))\n",
    "print('Recall:', recall_score(y_dev, y_pred_sgd))"
   ]
  },
  {
   "cell_type": "code",
   "execution_count": 15,
   "metadata": {},
   "outputs": [
    {
     "data": {
      "image/png": "[encoded data removed]",
      "text/plain": [
       "<matplotlib.figure.Figure at 0x11b05bda0>"
      ]
     },
     "metadata": {},
     "output_type": "display_data"
    },
    {
     "data": {
      "text/plain": [
       "<ggplot: (-9223372036558005472)>"
      ]
     },
     "execution_count": 15,
     "metadata": {},
     "output_type": "execute_result"
    }
   ],
   "source": [
    "from sklearn.metrics import precision_recall_curve\n",
    "from ggplot import ggplot, aes, geom_line\n",
    "y_pred_scores = sgd.decision_function(n_grams_dev)\n",
    "\n",
    "def plot_precision_recall_curve(y_true, y_pred_scores):\n",
    "    precision, recall, thresholds = precision_recall_curve(y_true, y_pred_scores)\n",
    "    return ggplot(aes(x='recall', y='precision'), \n",
    "                  data=pd.DataFrame({\"precision\": precision, \"recall\": recall})) + geom_line()\n",
    "    \n",
    "plot_precision_recall_curve(y_dev, y_pred_scores)"
   ]
  },
  {
   "cell_type": "code",
   "execution_count": 16,
   "metadata": {},
   "outputs": [
    {
     "name": "stdout",
     "output_type": "stream",
     "text": [
      "Average precision: 0.344992904966\n"
     ]
    }
   ],
   "source": [
    "from sklearn.metrics import average_precision_score\n",
    "print('Average precision:', average_precision_score(y_dev, y_pred_scores))"
   ]
  },
  {
   "cell_type": "code",
   "execution_count": 17,
   "metadata": {
    "collapsed": true
   },
   "outputs": [],
   "source": [
    "from sklearn.pipeline import Pipeline\n",
    "from xgboost import XGBClassifier\n",
    "\n",
    "count_vectorizer = CountVectorizer(analyzer='char', min_df=10)\n",
    "xgb = XGBClassifier(seed=0)\n",
    "pipeline = Pipeline([\n",
    "    ('count_vectorizer', count_vectorizer),\n",
    "    ('xgb', xgb)\n",
    "])"
   ]
  },
  {
   "cell_type": "code",
   "execution_count": 18,
   "metadata": {
    "collapsed": true
   },
   "outputs": [],
   "source": [
    "pipeline.fit(x_train['uri'], y_train)\n",
    "y_pred = pipeline.predict(x_dev['uri'])\n",
    "y_pred_proba = pipeline.predict_proba(x_dev['uri'])"
   ]
  },
  {
   "cell_type": "code",
   "execution_count": 19,
   "metadata": {},
   "outputs": [
    {
     "data": {
      "image/png": "[encoded data removed]",
      "text/plain": [
       "<matplotlib.figure.Figure at 0x10a93bd30>"
      ]
     },
     "metadata": {},
     "output_type": "display_data"
    },
    {
     "data": {
      "text/plain": [
       "<ggplot: (296705870)>"
      ]
     },
     "execution_count": 19,
     "metadata": {},
     "output_type": "execute_result"
    }
   ],
   "source": [
    "plot_precision_recall_curve(y_dev, y_pred_proba[:, 1])"
   ]
  },
  {
   "cell_type": "code",
   "execution_count": 20,
   "metadata": {},
   "outputs": [
    {
     "name": "stdout",
     "output_type": "stream",
     "text": [
      "Average precision: 0.730001838021\n",
      "Precision: 0.965189873418\n",
      "Recall: 0.373317013464\n"
     ]
    }
   ],
   "source": [
    "print('Average precision:', average_precision_score(y_dev, y_pred_proba[:, 1]))\n",
    "print('Precision:', precision_score(y_dev, y_pred))\n",
    "print('Recall:', recall_score(y_dev, y_pred))"
   ]
  },
  {
   "cell_type": "code",
   "execution_count": 21,
   "metadata": {},
   "outputs": [
    {
     "name": "stdout",
     "output_type": "stream",
     "text": [
      "Importance: 0.094 Feature: . (n_gram)\n",
      "Importance: 0.088 Feature: / (n_gram)\n",
      "Importance: 0.078 Feature: 0 (n_gram)\n",
      "Importance: 0.069 Feature: ) (n_gram)\n",
      "Importance: 0.055 Feature: = (n_gram)\n",
      "Importance: 0.040 Feature: x (n_gram)\n",
      "Importance: 0.030 Feature: * (n_gram)\n",
      "Importance: 0.029 Feature: g (n_gram)\n",
      "Importance: 0.029 Feature: & (n_gram)\n",
      "Importance: 0.026 Feature: ; (n_gram)\n"
     ]
    }
   ],
   "source": [
    "import numpy as np\n",
    "\n",
    "def get_top_k_indices(l, k=10):\n",
    "    ind = np.argpartition(l, -k)[-k:]\n",
    "    return ind[np.argsort(l[ind])[::-1]]\n",
    "\n",
    "feature_names = {v: k + ' (n_gram)' for k, v in count_vectorizer.vocabulary_.items()}\n",
    "for idx in get_top_k_indices(xgb.feature_importances_, 10):\n",
    "    print('Importance: {:.3f} Feature: {}'.format(xgb.feature_importances_[idx], feature_names[idx]))"
   ]
  },
  {
   "cell_type": "code",
   "execution_count": 22,
   "metadata": {
    "scrolled": true
   },
   "outputs": [
    {
     "data": {
      "text/plain": [
       "[{'http_version': 'v1.1', 'is_static': False},\n",
       " {'http_version': 'v1.1', 'is_static': True},\n",
       " {'http_version': 'v1.1', 'is_static': True},\n",
       " {'http_version': 'v1.1', 'is_static': True},\n",
       " {'http_version': 'v1.1', 'is_static': False},\n",
       " {'http_version': 'v1.1', 'is_static': True},\n",
       " {'http_version': 'v1.1', 'is_static': False},\n",
       " {'http_version': 'v2.0', 'is_static': True},\n",
       " {'http_version': 'v1.1', 'is_static': False},\n",
       " {'http_version': 'v1.1', 'is_static': False}]"
      ]
     },
     "execution_count": 22,
     "metadata": {},
     "output_type": "execute_result"
    }
   ],
   "source": [
    "head = x_dev[['is_static', 'http_version']].head(10).to_dict(orient='records')\n",
    "head"
   ]
  },
  {
   "cell_type": "code",
   "execution_count": 23,
   "metadata": {},
   "outputs": [
    {
     "data": {
      "text/plain": [
       "array([[ 1.,  0.,  0.],\n",
       "       [ 1.,  0.,  1.],\n",
       "       [ 1.,  0.,  1.],\n",
       "       [ 1.,  0.,  1.],\n",
       "       [ 1.,  0.,  0.],\n",
       "       [ 1.,  0.,  1.],\n",
       "       [ 1.,  0.,  0.],\n",
       "       [ 0.,  1.,  1.],\n",
       "       [ 1.,  0.,  0.],\n",
       "       [ 1.,  0.,  0.]])"
      ]
     },
     "execution_count": 23,
     "metadata": {},
     "output_type": "execute_result"
    }
   ],
   "source": [
    "from sklearn.feature_extraction import DictVectorizer\n",
    "\n",
    "dict_vectorizer = DictVectorizer(sparse=False)\n",
    "dict_vectorizer.fit_transform(head)"
   ]
  },
  {
   "cell_type": "code",
   "execution_count": 24,
   "metadata": {},
   "outputs": [
    {
     "data": {
      "text/plain": [
       "{'http_version=v1.1': 0, 'http_version=v2.0': 1, 'is_static': 2}"
      ]
     },
     "execution_count": 24,
     "metadata": {},
     "output_type": "execute_result"
    }
   ],
   "source": [
    "dict_vectorizer.vocabulary_"
   ]
  },
  {
   "cell_type": "code",
   "execution_count": 25,
   "metadata": {
    "collapsed": true
   },
   "outputs": [],
   "source": [
    "from sklearn.base import BaseEstimator, TransformerMixin\n",
    "\n",
    "class ColumnSelector(BaseEstimator, TransformerMixin):\n",
    "    def __init__(self, column_list):\n",
    "        self.column_list = column_list\n",
    "        \n",
    "    def fit(self, x, y=None):\n",
    "        return self\n",
    "    \n",
    "    def transform(self, x):\n",
    "        if len(self.column_list) == 1:\n",
    "            return x[self.column_list[0]].values\n",
    "        else:\n",
    "            return x[self.column_list].to_dict(orient='records')"
   ]
  },
  {
   "cell_type": "code",
   "execution_count": 26,
   "metadata": {},
   "outputs": [
    {
     "data": {
      "text/plain": [
       "array([False,  True,  True,  True, False], dtype=bool)"
      ]
     },
     "execution_count": 26,
     "metadata": {},
     "output_type": "execute_result"
    }
   ],
   "source": [
    "ColumnSelector(['is_static']).transform(x_dev)[0:5]"
   ]
  },
  {
   "cell_type": "code",
   "execution_count": 27,
   "metadata": {},
   "outputs": [
    {
     "data": {
      "text/plain": [
       "Pipeline(steps=[('feature_union', FeatureUnion(n_jobs=1,\n",
       "       transformer_list=[('text_features', Pipeline(steps=[('selector', ColumnSelector(column_list=['uri'])), ('count_vectorizer', CountVectorizer(analyzer='char', binary=False, decode_error='strict',\n",
       "        dtype=<class 'numpy.int64'>, encoding='utf-...logistic', reg_alpha=0, reg_lambda=1,\n",
       "       scale_pos_weight=1, seed=0, silent=True, subsample=1))])"
      ]
     },
     "execution_count": 27,
     "metadata": {},
     "output_type": "execute_result"
    }
   ],
   "source": [
    "from sklearn.feature_extraction import DictVectorizer\n",
    "from sklearn.pipeline import FeatureUnion\n",
    "\n",
    "count_vectorizer = CountVectorizer(analyzer='char', ngram_range=(1, 3), min_df=10)\n",
    "dict_vectorizer = DictVectorizer()\n",
    "xgb = XGBClassifier(seed=0)\n",
    "\n",
    "pipeline = Pipeline([\n",
    "    (\"feature_union\", FeatureUnion([\n",
    "        ('text_features', Pipeline([\n",
    "            ('selector', ColumnSelector(['uri'])), \n",
    "            ('count_vectorizer', count_vectorizer)\n",
    "        ])),\n",
    "        ('categorical_features', Pipeline([\n",
    "            ('selector', ColumnSelector(['is_static', 'http_version', 'has_referer', 'method'])),\n",
    "            ('dict_vectorizer', dict_vectorizer)\n",
    "        ]))\n",
    "    ])),\n",
    "    ('xgb', xgb)\n",
    "])\n",
    "\n",
    "pipeline.fit(x_train, y_train)"
   ]
  },
  {
   "cell_type": "code",
   "execution_count": 28,
   "metadata": {},
   "outputs": [
    {
     "name": "stdout",
     "output_type": "stream",
     "text": [
      "Average precision: 0.960212220102\n"
     ]
    }
   ],
   "source": [
    "y_pred_proba = pipeline.predict_proba(x_dev)\n",
    "print('Average precision:', average_precision_score(y_dev, y_pred_proba[:, 1]))"
   ]
  },
  {
   "cell_type": "code",
   "execution_count": 29,
   "metadata": {},
   "outputs": [
    {
     "data": {
      "image/png": "[encoded data removed]",
      "text/plain": [
       "<matplotlib.figure.Figure at 0x10b71ea20>"
      ]
     },
     "metadata": {},
     "output_type": "display_data"
    },
    {
     "data": {
      "text/plain": [
       "<ggplot: (-9223372036580809093)>"
      ]
     },
     "execution_count": 29,
     "metadata": {},
     "output_type": "execute_result"
    }
   ],
   "source": [
    "plot_precision_recall_curve(y_dev, y_pred_proba[:, 1])"
   ]
  },
  {
   "cell_type": "code",
   "execution_count": 50,
   "metadata": {},
   "outputs": [
    {
     "name": "stdout",
     "output_type": "stream",
     "text": [
      "Feature set: 1_grams has total importance of : 0.28\n",
      "Feature set: 2_grams has total importance of : 0.31\n",
      "Feature set: 3_grams has total importance of : 0.36\n",
      "Feature set: categorical has total importance of : 0.05\n"
     ]
    }
   ],
   "source": [
    "from collections import defaultdict\n",
    "\n",
    "indices_1_grams = [v for k, v in count_vectorizer.vocabulary_.items() if len(k) == 1]\n",
    "indices_2_grams = [v for k, v in count_vectorizer.vocabulary_.items() if len(k) == 2]\n",
    "indices_3_grams = [v for k, v in count_vectorizer.vocabulary_.items() if len(k) == 3]\n",
    "indices_categorical = [v + len(count_vectorizer.vocabulary_.items()) for _, v in dict_vectorizer.vocabulary_.items()]\n",
    "\n",
    "feature_group_importance = defaultdict(int)\n",
    "for idx, value in enumerate(xgb.feature_importances_):\n",
    "    if idx in indices_1_grams:\n",
    "        feature_group_importance['1_grams'] += value\n",
    "    elif idx in indices_2_grams:\n",
    "        feature_group_importance['2_grams'] += value\n",
    "    elif idx in indices_3_grams:\n",
    "        feature_group_importance['3_grams'] += value\n",
    "    elif idx in indices_categorical:\n",
    "        feature_group_importance['categorical'] += value\n",
    "\n",
    "for key, value in feature_group_importance.items():\n",
    "    print(\"Feature set: {} has total importance of : {:.2f}\".format(key, value))"
   ]
  },
  {
   "cell_type": "code",
   "execution_count": 62,
   "metadata": {},
   "outputs": [
    {
     "name": "stdout",
     "output_type": "stream",
     "text": [
      "Threshold: 0.99951 Precision: 0.99584 Recall: 0.58629\n"
     ]
    }
   ],
   "source": [
    "precision, recall, thresholds = precision_recall_curve(y_dev, y_pred_proba[:, 1])\n",
    "for idx, threshold in enumerate(thresholds):\n",
    "    if precision[idx] > 0.995:\n",
    "        print(\"Threshold: {:.5f} Precision: {:.5f} Recall: {:.5f}\".format(t, precision[idx], recall[idx]))\n",
    "        break"
   ]
  },
  {
   "cell_type": "code",
   "execution_count": null,
   "metadata": {
    "collapsed": true
   },
   "outputs": [],
   "source": []
  }
 ],
 "metadata": {
  "kernelspec": {
   "display_name": "Python 3",
   "language": "python",
   "name": "python3"
  },
  "language_info": {
   "codemirror_mode": {
    "name": "ipython",
    "version": 3
   },
   "file_extension": ".py",
   "mimetype": "text/x-python",
   "name": "python",
   "nbconvert_exporter": "python",
   "pygments_lexer": "ipython3",
   "version": "3.6.0"
  }
 },
 "nbformat": 4,
 "nbformat_minor": 1
}
